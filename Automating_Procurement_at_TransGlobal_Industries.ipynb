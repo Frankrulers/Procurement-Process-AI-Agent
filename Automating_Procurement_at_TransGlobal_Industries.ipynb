{
 "cells": [
  {
   "cell_type": "markdown",
   "id": "d528f587-7bb2-4e3b-9990-c2461d7d18fb",
   "metadata": {},
   "source": [
    "## Authors- \n",
    "##### *Abhinav Kumar*- FT251002\n",
    "\n",
    "##### *Aditi Sharma*- FT251005\n",
    "\n",
    "##### *Aditya Gupta*- FT251006\n",
    "\n",
    "##### *Ambika Prasad Swain*- FT251013\n",
    "\n",
    "##### *Mayank Agrawal*- FT201042\n",
    "\n",
    "##### *Kaustuv Bhattacharya*- FT252043"
   ]
  },
  {
   "cell_type": "markdown",
   "id": "8b816516-60bf-4a89-9813-d4c3d39b5c24",
   "metadata": {},
   "source": [
    "# Objective:\n",
    "### The objective of this assignment is to design, implement, and evaluate an AI-driven procurement automation system for TransGlobal Industries. The solution should leverage Large Language Models (LLMs), LangChain, and Streamlit to streamline key procurement processes.\n",
    "\n",
    "### The overarching goals are- Reducing manual labor, increasing accuracy, removing bias, and speeding up procurement decision-making."
   ]
  },
  {
   "cell_type": "markdown",
   "id": "4d0d9493-9a7c-4265-b2b8-02943ad63d00",
   "metadata": {},
   "source": [
    "## Importing Necessary Libraries "
   ]
  },
  {
   "cell_type": "code",
   "execution_count": 2,
   "id": "b325c54d-bac7-4ac1-ab66-3a3fbca093a8",
   "metadata": {},
   "outputs": [],
   "source": [
    "import os\n",
    "import streamlit as st\n",
    "import langchain\n",
    "from langchain_google_genai import ChatGoogleGenerativeAI\n",
    "import google.generativeai as genai\n",
    "from langchain.prompts import PromptTemplate\n",
    "from langchain.chains import LLMChain\n",
    "import pandas as pd\n",
    "from io import StringIO"
   ]
  },
  {
   "cell_type": "markdown",
   "id": "a1a1ba94-c1b0-4f6d-b734-71e4d36e7a82",
   "metadata": {},
   "source": [
    "## Checking Installed Package Versions in Python "
   ]
  },
  {
   "cell_type": "code",
   "execution_count": 4,
   "id": "b134bba4-a571-409e-ac92-2d05ff9a5632",
   "metadata": {},
   "outputs": [
    {
     "name": "stdout",
     "output_type": "stream",
     "text": [
      "streamlit version: 1.37.1\n",
      "langchain version: 0.3.20\n",
      "pandas version: 2.2.2\n"
     ]
    }
   ],
   "source": [
    "print(f\"streamlit version: {st.__version__}\")\n",
    "print(f\"langchain version: {langchain.__version__}\")\n",
    "print(f\"pandas version: {pd.__version__}\")"
   ]
  },
  {
   "cell_type": "markdown",
   "id": "1500b4e7-af23-4807-8e0e-e859fa1f7d28",
   "metadata": {},
   "source": [
    "## 1. Initial Setup & Configurations"
   ]
  },
  {
   "cell_type": "code",
   "execution_count": 228,
   "id": "be8acce3-4fc3-403d-80a5-a0c7ed25772e",
   "metadata": {},
   "outputs": [],
   "source": [
    "# Load API Key\n",
    "GOOGLE_API_KEY = os.getenv(\"GEMINI_API_KEY\")\n",
    "if not GOOGLE_API_KEY:\n",
    "    st.error(\"Google API Key is missing! Set the GEMINI_API_KEY environment variable.\")\n",
    "    st.stop()"
   ]
  },
  {
   "cell_type": "code",
   "execution_count": 229,
   "id": "a9337ee1-315f-443c-afcd-be047e428fea",
   "metadata": {},
   "outputs": [],
   "source": [
    "# Initialize LLM with a low temperature (0.1)\n",
    "llm = ChatGoogleGenerativeAI(\n",
    "    model=\"gemini-2.0-flash\",\n",
    "    google_api_key=GOOGLE_API_KEY,\n",
    "    temperature=0.1\n",
    ")"
   ]
  },
  {
   "cell_type": "markdown",
   "id": "1855daa0-a44b-4e7c-a7cd-85313e6657f7",
   "metadata": {},
   "source": [
    "## 2. Defining Prompt Templates and Chains for Each Step"
   ]
  },
  {
   "cell_type": "markdown",
   "id": "fab8250e-6c12-4bcd-ae96-48d518fe231a",
   "metadata": {},
   "source": [
    "#### Step 1: Business to Technical Requirements Conversion"
   ]
  },
  {
   "cell_type": "code",
   "execution_count": 232,
   "id": "845836c6-282a-45f2-9ae7-9790b6cf3149",
   "metadata": {},
   "outputs": [],
   "source": [
    "tech_req_prompt = PromptTemplate(\n",
    "    input_variables=[\"business_req\"],\n",
    "    template=\"\"\"\n",
    "    \n",
    "Context: TransGlobal Industries is automating its procurement proces using AI Agents.\n",
    "Role: You are a technical requirements analyst.\n",
    "Task: Convert the following Business Requirements into a detailed Technical Requirements Document.\n",
    "Action: Generate a structured Technical Requirements Document. Provide the output in plain text, without any Markdown formatting.\n",
    "\n",
    "Business Requirement:\n",
    "{business_req}\n",
    "\n",
    "    The technical requirements document should include:\n",
    "    \n",
    "    1. A header with project title and date\n",
    "    2. Numbered sections for different requirement categories\n",
    "    3. For each requirement, include:\n",
    "       * The specific technical requirement\n",
    "    \n",
    "    Each requirement should be specific, measurable, achievable, relevant, and time-bound (SMART).\n",
    "    \n",
    "    Ensure all functional and non-functional requirements are covered, including:\n",
    "    - System architecture\n",
    "    - Performance specifications\n",
    "    - Integration requirements\n",
    "    - Security requirements\n",
    "    - User interface specifications\n",
    "    - Data management requirements\n",
    "    - Any relevant standards or compliance needs\n",
    "    Ensure that you don't pick up LLM, streamlit, Langchain or any other component required to build the agent. The agent should be strictly based on the business required document.\n",
    "\"\"\"\n",
    ")\n",
    "tech_req_chain = LLMChain(llm=llm, prompt=tech_req_prompt)"
   ]
  },
  {
   "cell_type": "markdown",
   "id": "f5981446-d081-46e1-b142-32668e9f32d6",
   "metadata": {},
   "source": [
    "#### Step 2: Vendor Shortlisting (LLM is used to get names of Vendors)"
   ]
  },
  {
   "cell_type": "code",
   "execution_count": 234,
   "id": "b0a12d96-5cd2-4fad-8d8a-7dc62122f320",
   "metadata": {},
   "outputs": [],
   "source": [
    "vendor_shortlist_prompt = PromptTemplate(\n",
    "    input_variables=[\"tech_req\", \"vendor_history\"],\n",
    "    template=\"\"\"\n",
    "Context: TransGlobal Industries is automating its procurement process.\n",
    "Role: You are a vendor identification specialist.\n",
    "Task: Based on the Technical Requirements and Vendor History, identify suitable vendors.\n",
    "Action: Return a comma-separated list of vendors that might be suitable (e.g., Vendor A, Vendor B). Only list the vendor names, nothing else. Provide the output in plain text, without any Markdown formatting. \n",
    "\n",
    "Technical Requirements:\n",
    "{tech_req}\n",
    "\n",
    "Vendor History:\n",
    "{vendor_history}\n",
    "\"\"\"\n",
    ")\n",
    "vendor_shortlist_chain = LLMChain(llm=llm, prompt=vendor_shortlist_prompt)"
   ]
  },
  {
   "cell_type": "markdown",
   "id": "9deb6b1e-94c9-4112-9650-0d81d5b54b07",
   "metadata": {},
   "source": [
    "#### Step 3: Tender Document & RFP Preparation"
   ]
  },
  {
   "cell_type": "code",
   "execution_count": 236,
   "id": "72ad8741-c576-4e77-91ef-abbc109d245a",
   "metadata": {},
   "outputs": [],
   "source": [
    "tender_doc_prompt = PromptTemplate(\n",
    "    input_variables=[\"tech_req\", \"business_req\"],\n",
    "    template=\"\"\"\n",
    "Context: TransGlobal Industries is automating its procurement process.\n",
    "Role: You are a procurement document specialist.\n",
    "Task: Prepare a comprehensive Tender Document and Request for Proposal (RFP).\n",
    "Action: Format the document to encapsulate the provided technical and business requirements.Provide the output in plain text, without any Markdown formatting.\n",
    "\n",
    "Technical Requirements:\n",
    "{tech_req}\n",
    "\n",
    "Business Requirements:\n",
    "{business_req}\n",
    "\"\"\"\n",
    ")\n",
    "tender_doc_chain = LLMChain(llm=llm, prompt=tender_doc_prompt)"
   ]
  },
  {
   "cell_type": "markdown",
   "id": "d677b2fe-21e2-4b6a-859b-5f7b77f0152d",
   "metadata": {},
   "source": [
    "#### Step 4: Tender Email Generation for Shortlisted Vendors"
   ]
  },
  {
   "cell_type": "code",
   "execution_count": 238,
   "id": "14c84e81-11fe-4eb3-9c33-ea799f8331fb",
   "metadata": {},
   "outputs": [],
   "source": [
    "tender_email_prompt = PromptTemplate(\n",
    "    input_variables=[\"shortlisted_vendors\", \"tender_doc\"],\n",
    "    template=\"\"\"\n",
    "Context: TransGlobal Industries procurement process.\n",
    "Role: You are a communications specialist.\n",
    "Task: Generate a professional email to send the tender document to the shortlisted vendors.\n",
    "Action: Provide the output in plain text, without any Markdown formatting.\n",
    "The email should:\n",
    "    1. Have a clear, professional subject line\n",
    "    2. Introduce the company (TransGlobal Industries) and the opportunity briefly\n",
    "    3. Mention that they've been shortlisted based on their capabilities\n",
    "    4. Explain that the tender document is attached\n",
    "    5. Specify a deadline for submission (3 weeks from now)\n",
    "    6. Provide contact information for questions\n",
    "    7. End with a professional closing\n",
    "    \n",
    "    Keep the email concise but professional. Do not include the actual tender document text in the email.\n",
    "    Format as a complete email with Subject line, Greeting, Body, and Signature.\n",
    "\n",
    "    The emails should be completely separate for each 2 selected vendor.\n",
    "\n",
    "Shortlisted Vendors:\n",
    "{shortlisted_vendors}\n",
    "\n",
    "Tender Document:\n",
    "{tender_doc}\n",
    "\"\"\"\n",
    ")\n",
    "tender_email_chain = LLMChain(llm=llm, prompt=tender_email_prompt)"
   ]
  },
  {
   "cell_type": "markdown",
   "id": "7bf357d0-9a03-4fd7-953d-55dfb16d0d98",
   "metadata": {},
   "source": [
    "#### Step 5: Bid Evaluation"
   ]
  },
  {
   "cell_type": "code",
   "execution_count": 240,
   "id": "6e280c6d-0ea7-4ead-85eb-04cc2fcee516",
   "metadata": {},
   "outputs": [],
   "source": [
    "bid_evaluation_prompt = PromptTemplate(\n",
    "    input_variables=[\"bids_data\"],\n",
    "    template=\"\"\"\n",
    "Context: TransGlobal Industries procurement process.\n",
    "Role: You are a bid evaluation expert.\n",
    "Task: Evaluate the provided bids based on price, quality, delivery, and technological capability.\n",
    "Action: Identify and list the top two bids with scoring and brief justification. Provide the output in plain text, without any Markdown formatting.\n",
    "\n",
    "Bids Data:\n",
    "{bids_data}\n",
    "\"\"\"\n",
    ")\n",
    "bid_evaluation_chain = LLMChain(llm=llm, prompt=bid_evaluation_prompt)"
   ]
  },
  {
   "cell_type": "markdown",
   "id": "973e01db-78ee-4d53-8633-bd2196b302c0",
   "metadata": {},
   "source": [
    "#### Step 6: Negotiation Strategy and BATNA Analysis"
   ]
  },
  {
   "cell_type": "code",
   "execution_count": 242,
   "id": "c8b68ba8-67bc-4eee-9700-a2ab87d49a1f",
   "metadata": {},
   "outputs": [],
   "source": [
    "negotiation_strategy_prompt = PromptTemplate(\n",
    "    input_variables=[\"top_two_bids\"],\n",
    "    template=\"\"\"\n",
    "Context: TransGlobal Industries procurement process.\n",
    "Role: You are a negotiation strategist.\n",
    "Task: Develop a negotiation strategy and identify the Best Alternative to a Negotiated Agreement (BATNA).\n",
    "Action: Provide clear strategies and recommendations based on the top two bids. Provide the output in plain text, without any Markdown formatting.\n",
    "\n",
    "Top Two Bids:\n",
    "{top_two_bids}\n",
    "\"\"\"\n",
    ")\n",
    "negotiation_strategy_chain = LLMChain(llm=llm, prompt=negotiation_strategy_prompt)"
   ]
  },
  {
   "cell_type": "markdown",
   "id": "14ec3d21-5c07-4769-a5fd-970be94c1f58",
   "metadata": {},
   "source": [
    "#### Step 7: Risk Assessment Report Generation"
   ]
  },
  {
   "cell_type": "code",
   "execution_count": 244,
   "id": "af0f5890-781b-49fe-a2cf-c6a5917cf8ef",
   "metadata": {},
   "outputs": [],
   "source": [
    "risk_assessment_prompt = PromptTemplate(\n",
    "    input_variables=[\"negotiation_strategy\", \"bid_data\"],\n",
    "    template=\"\"\"\n",
    "Context: TransGlobal Industries procurement process.\n",
    "Role: You are a risk assessment specialist.\n",
    "Task: Generate a risk assessment report for the preferred vendor.\n",
    "Action: Include analysis on delivery, quality, compliance, performance, and communication risks. Provide the output in plain text, without any Markdown formatting.\n",
    "\n",
    "Negotiation Strategy:\n",
    "{negotiation_strategy}\n",
    "\n",
    "Bid Data:\n",
    "{bid_data}\n",
    "\"\"\"\n",
    ")\n",
    "risk_assessment_chain = LLMChain(llm=llm, prompt=risk_assessment_prompt)"
   ]
  },
  {
   "cell_type": "markdown",
   "id": "d305ba45-466c-4f49-a4c5-4d66274d8d1c",
   "metadata": {},
   "source": [
    "#### Step 8: Contract Document Generation"
   ]
  },
  {
   "cell_type": "code",
   "execution_count": 246,
   "id": "b72f6651-8724-4012-b2bb-38e857b48ab8",
   "metadata": {},
   "outputs": [],
   "source": [
    "contract_doc_prompt = PromptTemplate(\n",
    "    input_variables=[\"risk_assessment\"],\n",
    "    template=\"\"\"\n",
    "Context: TransGlobal Industries procurement process.\n",
    "Role: You are a contract drafting expert.\n",
    "Task: Draft a comprehensive contract document.\n",
    "Action: Include clauses on risk mitigation, performance guarantees, and dispute resolution based on the risk assessment report. Provide the output in plain text, without any Markdown formatting.\n",
    "\n",
    "Risk Assessment Report:\n",
    "{risk_assessment}\n",
    "\"\"\"\n",
    ")\n",
    "contract_doc_chain = LLMChain(llm=llm, prompt=contract_doc_prompt)"
   ]
  },
  {
   "cell_type": "markdown",
   "id": "89b2e11f-54ab-42f0-bba1-1794319be046",
   "metadata": {},
   "source": [
    "## 3. Initializing Session State"
   ]
  },
  {
   "cell_type": "code",
   "execution_count": 248,
   "id": "5db409f3-de81-468c-9c9f-271b1daa20d3",
   "metadata": {},
   "outputs": [
    {
     "name": "stderr",
     "output_type": "stream",
     "text": [
      "2025-03-13 11:33:39.892 Thread 'MainThread': missing ScriptRunContext! This warning can be ignored when running in bare mode.\n",
      "2025-03-13 11:33:39.892 Thread 'MainThread': missing ScriptRunContext! This warning can be ignored when running in bare mode.\n",
      "2025-03-13 11:33:39.892 Thread 'MainThread': missing ScriptRunContext! This warning can be ignored when running in bare mode.\n",
      "2025-03-13 11:33:39.900 Thread 'MainThread': missing ScriptRunContext! This warning can be ignored when running in bare mode.\n",
      "2025-03-13 11:33:39.900 Thread 'MainThread': missing ScriptRunContext! This warning can be ignored when running in bare mode.\n",
      "2025-03-13 11:33:39.900 Thread 'MainThread': missing ScriptRunContext! This warning can be ignored when running in bare mode.\n",
      "2025-03-13 11:33:39.900 Thread 'MainThread': missing ScriptRunContext! This warning can be ignored when running in bare mode.\n",
      "2025-03-13 11:33:39.906 Thread 'MainThread': missing ScriptRunContext! This warning can be ignored when running in bare mode.\n",
      "2025-03-13 11:33:39.908 Thread 'MainThread': missing ScriptRunContext! This warning can be ignored when running in bare mode.\n",
      "2025-03-13 11:33:39.908 Thread 'MainThread': missing ScriptRunContext! This warning can be ignored when running in bare mode.\n"
     ]
    }
   ],
   "source": [
    "if \"tech_req_doc\" not in st.session_state:\n",
    "    st.session_state.tech_req_doc = \"\"\n",
    "if \"shortlisted_vendors\" not in st.session_state:\n",
    "    st.session_state.shortlisted_vendors = \"\"\n",
    "if \"tender_doc\" not in st.session_state:\n",
    "    st.session_state.tender_doc = \"\"\n",
    "if \"tender_email\" not in st.session_state:\n",
    "    st.session_state.tender_email = \"\"\n",
    "if \"bid_evaluation\" not in st.session_state:\n",
    "    st.session_state.bid_evaluation = \"\"\n",
    "if \"negotiation_strategy\" not in st.session_state:\n",
    "    st.session_state.negotiation_strategy = \"\"\n",
    "if \"risk_assessment\" not in st.session_state:\n",
    "    st.session_state.risk_assessment = \"\"\n",
    "if \"contract_doc\" not in st.session_state:\n",
    "    st.session_state.contract_doc = \"\"\n",
    "if \"top_two_bids\" not in st.session_state:\n",
    "    st.session_state.top_two_bids = \"\"\n",
    "if \"vendor_history_df\" not in st.session_state:\n",
    "    st.session_state.vendor_history_df = None"
   ]
  },
  {
   "cell_type": "markdown",
   "id": "edf347e3-4c3a-431c-a56f-20a23ebcb611",
   "metadata": {},
   "source": [
    "## 4. Building the Streamlit UI"
   ]
  },
  {
   "cell_type": "code",
   "execution_count": 250,
   "id": "d5345a27-8d73-4437-9540-7d7445f29c0e",
   "metadata": {},
   "outputs": [
    {
     "name": "stderr",
     "output_type": "stream",
     "text": [
      "2025-03-13 11:33:39.959 Thread 'MainThread': missing ScriptRunContext! This warning can be ignored when running in bare mode.\n",
      "2025-03-13 11:33:39.959 Thread 'MainThread': missing ScriptRunContext! This warning can be ignored when running in bare mode.\n",
      "2025-03-13 11:33:39.965 Thread 'MainThread': missing ScriptRunContext! This warning can be ignored when running in bare mode.\n",
      "2025-03-13 11:33:39.965 Thread 'MainThread': missing ScriptRunContext! This warning can be ignored when running in bare mode.\n",
      "2025-03-13 11:33:39.965 Thread 'MainThread': missing ScriptRunContext! This warning can be ignored when running in bare mode.\n",
      "2025-03-13 11:33:39.965 Thread 'MainThread': missing ScriptRunContext! This warning can be ignored when running in bare mode.\n",
      "2025-03-13 11:33:39.965 Thread 'MainThread': missing ScriptRunContext! This warning can be ignored when running in bare mode.\n",
      "2025-03-13 11:33:39.972 Thread 'MainThread': missing ScriptRunContext! This warning can be ignored when running in bare mode.\n",
      "2025-03-13 11:33:39.975 Thread 'MainThread': missing ScriptRunContext! This warning can be ignored when running in bare mode.\n",
      "2025-03-13 11:33:39.975 Thread 'MainThread': missing ScriptRunContext! This warning can be ignored when running in bare mode.\n",
      "2025-03-13 11:33:39.975 Thread 'MainThread': missing ScriptRunContext! This warning can be ignored when running in bare mode.\n",
      "2025-03-13 11:33:39.980 Thread 'MainThread': missing ScriptRunContext! This warning can be ignored when running in bare mode.\n",
      "2025-03-13 11:33:39.982 Thread 'MainThread': missing ScriptRunContext! This warning can be ignored when running in bare mode.\n",
      "2025-03-13 11:33:39.982 Thread 'MainThread': missing ScriptRunContext! This warning can be ignored when running in bare mode.\n",
      "2025-03-13 11:33:39.982 Thread 'MainThread': missing ScriptRunContext! This warning can be ignored when running in bare mode.\n",
      "2025-03-13 11:33:39.988 Thread 'MainThread': missing ScriptRunContext! This warning can be ignored when running in bare mode.\n",
      "2025-03-13 11:33:39.988 Thread 'MainThread': missing ScriptRunContext! This warning can be ignored when running in bare mode.\n",
      "2025-03-13 11:33:39.992 Thread 'MainThread': missing ScriptRunContext! This warning can be ignored when running in bare mode.\n",
      "2025-03-13 11:33:39.992 Thread 'MainThread': missing ScriptRunContext! This warning can be ignored when running in bare mode.\n",
      "2025-03-13 11:33:39.993 Thread 'MainThread': missing ScriptRunContext! This warning can be ignored when running in bare mode.\n",
      "2025-03-13 11:33:39.993 Thread 'MainThread': missing ScriptRunContext! This warning can be ignored when running in bare mode.\n",
      "2025-03-13 11:33:39.993 Thread 'MainThread': missing ScriptRunContext! This warning can be ignored when running in bare mode.\n",
      "2025-03-13 11:33:39.993 Thread 'MainThread': missing ScriptRunContext! This warning can be ignored when running in bare mode.\n",
      "2025-03-13 11:33:39.993 Thread 'MainThread': missing ScriptRunContext! This warning can be ignored when running in bare mode.\n",
      "2025-03-13 11:33:39.993 Thread 'MainThread': missing ScriptRunContext! This warning can be ignored when running in bare mode.\n",
      "2025-03-13 11:33:39.993 Thread 'MainThread': missing ScriptRunContext! This warning can be ignored when running in bare mode.\n",
      "2025-03-13 11:33:39.993 Thread 'MainThread': missing ScriptRunContext! This warning can be ignored when running in bare mode.\n",
      "2025-03-13 11:33:39.993 Thread 'MainThread': missing ScriptRunContext! This warning can be ignored when running in bare mode.\n",
      "2025-03-13 11:33:40.004 Thread 'MainThread': missing ScriptRunContext! This warning can be ignored when running in bare mode.\n",
      "2025-03-13 11:33:40.004 Thread 'MainThread': missing ScriptRunContext! This warning can be ignored when running in bare mode.\n",
      "2025-03-13 11:33:40.006 Thread 'MainThread': missing ScriptRunContext! This warning can be ignored when running in bare mode.\n",
      "2025-03-13 11:33:40.006 Thread 'MainThread': missing ScriptRunContext! This warning can be ignored when running in bare mode.\n",
      "2025-03-13 11:33:40.009 Thread 'MainThread': missing ScriptRunContext! This warning can be ignored when running in bare mode.\n",
      "2025-03-13 11:33:40.009 Thread 'MainThread': missing ScriptRunContext! This warning can be ignored when running in bare mode.\n",
      "2025-03-13 11:33:40.009 Thread 'MainThread': missing ScriptRunContext! This warning can be ignored when running in bare mode.\n",
      "2025-03-13 11:33:40.009 Thread 'MainThread': missing ScriptRunContext! This warning can be ignored when running in bare mode.\n",
      "2025-03-13 11:33:40.009 Thread 'MainThread': missing ScriptRunContext! This warning can be ignored when running in bare mode.\n"
     ]
    }
   ],
   "source": [
    "# Configure page\n",
    "st.set_page_config(page_title=\"TransGlobal Industries Procurement Automation System\", layout=\"wide\")\n",
    "\n",
    "# Header with blue rectangle and white text\n",
    "st.markdown(\n",
    "    '<div style=\"background-color: blue; padding: 10px;\">'\n",
    "    '<h1 style=\"color: white; text-align: center;\">TransGlobal Industries Procurement Automation System</h1>'\n",
    "    '</div>',\n",
    "    unsafe_allow_html=True\n",
    ")\n",
    "\n",
    "# Sidebar listing procurement steps\n",
    "st.sidebar.title(\"Procurement Process Steps\")\n",
    "steps = [\n",
    "    \"1. Business to Technical Requirements\",\n",
    "    \"2. Vendor Shortlisting\",\n",
    "    \"3. Tender & RFP Preparation\",\n",
    "    \"4. Tender Email Generation\",\n",
    "    \"5. Bid Evaluation\",\n",
    "    \"6. Negotiation Strategy & BATNA\",\n",
    "    \"7. Risk Assessment\",\n",
    "    \"8. Contract Generation\"\n",
    "]\n",
    "for step in steps:\n",
    "    st.sidebar.write(step)"
   ]
  },
  {
   "cell_type": "markdown",
   "id": "0150cabb-e265-4f7d-9280-aa94fa7c3b37",
   "metadata": {},
   "source": [
    "## 5. File Uploads & Inputs"
   ]
  },
  {
   "cell_type": "code",
   "execution_count": 252,
   "id": "b13262b5-c16c-4b3f-9725-b65a8c05b9ab",
   "metadata": {},
   "outputs": [
    {
     "name": "stderr",
     "output_type": "stream",
     "text": [
      "2025-03-13 11:33:40.061 Thread 'MainThread': missing ScriptRunContext! This warning can be ignored when running in bare mode.\n",
      "2025-03-13 11:33:40.061 Thread 'MainThread': missing ScriptRunContext! This warning can be ignored when running in bare mode.\n"
     ]
    },
    {
     "data": {
      "text/plain": [
       "DeltaGenerator()"
      ]
     },
     "execution_count": 252,
     "metadata": {},
     "output_type": "execute_result"
    }
   ],
   "source": [
    "st.header(\"Input Section - Follow the sequence for uploading the files\")"
   ]
  },
  {
   "cell_type": "markdown",
   "id": "ab70d85f-1d46-40d2-a91c-7a6b6ad4d21d",
   "metadata": {},
   "source": [
    "#### Business Requirements Upload (Step 1)"
   ]
  },
  {
   "cell_type": "code",
   "execution_count": 254,
   "id": "5298dcbc-2e31-4e31-8f84-80a963832068",
   "metadata": {},
   "outputs": [
    {
     "name": "stderr",
     "output_type": "stream",
     "text": [
      "2025-03-13 11:33:40.116 Thread 'MainThread': missing ScriptRunContext! This warning can be ignored when running in bare mode.\n",
      "2025-03-13 11:33:40.116 Thread 'MainThread': missing ScriptRunContext! This warning can be ignored when running in bare mode.\n",
      "2025-03-13 11:33:40.123 Thread 'MainThread': missing ScriptRunContext! This warning can be ignored when running in bare mode.\n",
      "2025-03-13 11:33:40.125 Thread 'MainThread': missing ScriptRunContext! This warning can be ignored when running in bare mode.\n",
      "2025-03-13 11:33:40.127 Thread 'MainThread': missing ScriptRunContext! This warning can be ignored when running in bare mode.\n",
      "2025-03-13 11:33:40.128 Thread 'MainThread': missing ScriptRunContext! This warning can be ignored when running in bare mode.\n",
      "2025-03-13 11:33:40.129 Thread 'MainThread': missing ScriptRunContext! This warning can be ignored when running in bare mode.\n",
      "2025-03-13 11:33:40.129 Thread 'MainThread': missing ScriptRunContext! This warning can be ignored when running in bare mode.\n",
      "2025-03-13 11:33:40.129 Thread 'MainThread': missing ScriptRunContext! This warning can be ignored when running in bare mode.\n",
      "2025-03-13 11:33:40.134 Thread 'MainThread': missing ScriptRunContext! This warning can be ignored when running in bare mode.\n",
      "2025-03-13 11:33:40.134 Thread 'MainThread': missing ScriptRunContext! This warning can be ignored when running in bare mode.\n",
      "2025-03-13 11:33:40.134 Thread 'MainThread': missing ScriptRunContext! This warning can be ignored when running in bare mode.\n",
      "2025-03-13 11:33:40.134 Thread 'MainThread': missing ScriptRunContext! This warning can be ignored when running in bare mode.\n"
     ]
    }
   ],
   "source": [
    "st.subheader(\"Upload Business Requirements Document\")\n",
    "business_req_file = st.file_uploader(\"Upload Business Requirements File\", type=[\"txt\"])\n",
    "business_req_text = \"\"\n",
    "if business_req_file:\n",
    "    business_req_text = business_req_file.read().decode(\"utf-8\", errors=\"ignore\")\n",
    "else:\n",
    "    business_req_text = st.text_area(\"Or paste the Business Requirements here:\")"
   ]
  },
  {
   "cell_type": "markdown",
   "id": "a9263077-1541-4cf9-9bb0-ef78d545d04f",
   "metadata": {},
   "source": [
    "#### Vendor History Upload (Step 2)"
   ]
  },
  {
   "cell_type": "code",
   "execution_count": 256,
   "id": "98749ef2-1e8a-4c42-a6a4-15befd99030d",
   "metadata": {},
   "outputs": [
    {
     "name": "stderr",
     "output_type": "stream",
     "text": [
      "2025-03-13 11:33:40.185 Thread 'MainThread': missing ScriptRunContext! This warning can be ignored when running in bare mode.\n",
      "2025-03-13 11:33:40.187 Thread 'MainThread': missing ScriptRunContext! This warning can be ignored when running in bare mode.\n",
      "2025-03-13 11:33:40.190 Thread 'MainThread': missing ScriptRunContext! This warning can be ignored when running in bare mode.\n",
      "2025-03-13 11:33:40.192 Thread 'MainThread': missing ScriptRunContext! This warning can be ignored when running in bare mode.\n",
      "2025-03-13 11:33:40.193 Thread 'MainThread': missing ScriptRunContext! This warning can be ignored when running in bare mode.\n",
      "2025-03-13 11:33:40.194 Thread 'MainThread': missing ScriptRunContext! This warning can be ignored when running in bare mode.\n",
      "2025-03-13 11:33:40.194 Thread 'MainThread': missing ScriptRunContext! This warning can be ignored when running in bare mode.\n",
      "2025-03-13 11:33:40.194 Thread 'MainThread': missing ScriptRunContext! This warning can be ignored when running in bare mode.\n",
      "2025-03-13 11:33:40.194 Thread 'MainThread': missing ScriptRunContext! This warning can be ignored when running in bare mode.\n",
      "2025-03-13 11:33:40.194 Thread 'MainThread': missing ScriptRunContext! This warning can be ignored when running in bare mode.\n",
      "2025-03-13 11:33:40.194 Thread 'MainThread': missing ScriptRunContext! This warning can be ignored when running in bare mode.\n",
      "2025-03-13 11:33:40.194 Thread 'MainThread': missing ScriptRunContext! This warning can be ignored when running in bare mode.\n",
      "2025-03-13 11:33:40.194 Thread 'MainThread': missing ScriptRunContext! This warning can be ignored when running in bare mode.\n"
     ]
    }
   ],
   "source": [
    "st.subheader(\"Upload Vendor History File\")\n",
    "vendor_history_file = st.file_uploader(\"Upload Vendor History File\", key=\"vendor\", type=[\"csv\"])\n",
    "vendor_history_text = \"\"\n",
    "\n",
    "if vendor_history_file:\n",
    "    vendor_history_text = vendor_history_file.read().decode(\"utf-8\", errors=\"ignore\")\n",
    "\n",
    "    # Read the data using pandas\n",
    "    try:\n",
    "        df = pd.read_csv(StringIO(vendor_history_text))\n",
    "\n",
    "        # Store DataFrame in session state\n",
    "        st.session_state.vendor_history_df = df\n",
    "\n",
    "    except Exception as e:\n",
    "        st.error(f\"Error reading Vendor History file: {e}. Please ensure it is a valid TXT format.\")\n",
    "        st.session_state.vendor_history_df = None\n",
    "else:\n",
    "    vendor_history_text = st.text_area(\"Or paste the Vendor History here:\", key=\"vendor_text\")"
   ]
  },
  {
   "cell_type": "markdown",
   "id": "78094963-d183-455d-9430-52b6c61fcc52",
   "metadata": {},
   "source": [
    "#### Bids File Upload (Step 5)"
   ]
  },
  {
   "cell_type": "code",
   "execution_count": 258,
   "id": "5b2b5389-e55b-4160-9c39-418d62e7b8f0",
   "metadata": {},
   "outputs": [
    {
     "name": "stderr",
     "output_type": "stream",
     "text": [
      "2025-03-13 11:33:40.246 Thread 'MainThread': missing ScriptRunContext! This warning can be ignored when running in bare mode.\n",
      "2025-03-13 11:33:40.252 Thread 'MainThread': missing ScriptRunContext! This warning can be ignored when running in bare mode.\n",
      "2025-03-13 11:33:40.254 Thread 'MainThread': missing ScriptRunContext! This warning can be ignored when running in bare mode.\n",
      "2025-03-13 11:33:40.255 Thread 'MainThread': missing ScriptRunContext! This warning can be ignored when running in bare mode.\n",
      "2025-03-13 11:33:40.256 Thread 'MainThread': missing ScriptRunContext! This warning can be ignored when running in bare mode.\n",
      "2025-03-13 11:33:40.257 Thread 'MainThread': missing ScriptRunContext! This warning can be ignored when running in bare mode.\n",
      "2025-03-13 11:33:40.259 Thread 'MainThread': missing ScriptRunContext! This warning can be ignored when running in bare mode.\n",
      "2025-03-13 11:33:40.259 Thread 'MainThread': missing ScriptRunContext! This warning can be ignored when running in bare mode.\n",
      "2025-03-13 11:33:40.261 Thread 'MainThread': missing ScriptRunContext! This warning can be ignored when running in bare mode.\n",
      "2025-03-13 11:33:40.261 Thread 'MainThread': missing ScriptRunContext! This warning can be ignored when running in bare mode.\n",
      "2025-03-13 11:33:40.261 Thread 'MainThread': missing ScriptRunContext! This warning can be ignored when running in bare mode.\n",
      "2025-03-13 11:33:40.268 Thread 'MainThread': missing ScriptRunContext! This warning can be ignored when running in bare mode.\n",
      "2025-03-13 11:33:40.270 Thread 'MainThread': missing ScriptRunContext! This warning can be ignored when running in bare mode.\n"
     ]
    }
   ],
   "source": [
    "st.subheader(\"Upload Bids File\")\n",
    "bids_file = st.file_uploader(\"Upload Bids File\", key=\"bids\", type=[\"csv\"])\n",
    "bids_text = \"\"\n",
    "if bids_file:\n",
    "    bids_text = bids_file.read().decode(\"utf-8\", errors=\"ignore\")\n",
    "else:\n",
    "    bids_text = st.text_area(\"Or paste the Bids data here:\", key=\"bids_text\")"
   ]
  },
  {
   "cell_type": "markdown",
   "id": "9ac6911a-9df5-46d6-bb53-adfb9d2b9181",
   "metadata": {},
   "source": [
    "## 6. Processing and Output Generation"
   ]
  },
  {
   "cell_type": "code",
   "execution_count": 260,
   "id": "e6c20c53-c7ae-42ae-92ff-87c6287e9a41",
   "metadata": {},
   "outputs": [
    {
     "name": "stderr",
     "output_type": "stream",
     "text": [
      "2025-03-13 11:33:40.316 Thread 'MainThread': missing ScriptRunContext! This warning can be ignored when running in bare mode.\n",
      "2025-03-13 11:33:40.316 Thread 'MainThread': missing ScriptRunContext! This warning can be ignored when running in bare mode.\n"
     ]
    },
    {
     "data": {
      "text/plain": [
       "DeltaGenerator()"
      ]
     },
     "execution_count": 260,
     "metadata": {},
     "output_type": "execute_result"
    }
   ],
   "source": [
    "st.header(\"Output Section\")"
   ]
  },
  {
   "cell_type": "markdown",
   "id": "0404b719-bce7-4cbe-a5a6-6e6e99ede5de",
   "metadata": {},
   "source": [
    "#### Step 1: Technical Requirements Document"
   ]
  },
  {
   "cell_type": "code",
   "execution_count": 262,
   "id": "c176bdc3-3ab7-4372-b925-6d13be8fd4cc",
   "metadata": {},
   "outputs": [
    {
     "name": "stderr",
     "output_type": "stream",
     "text": [
      "2025-03-13 11:33:40.389 Thread 'MainThread': missing ScriptRunContext! This warning can be ignored when running in bare mode.\n",
      "2025-03-13 11:33:40.392 Thread 'MainThread': missing ScriptRunContext! This warning can be ignored when running in bare mode.\n",
      "2025-03-13 11:33:40.394 Thread 'MainThread': missing ScriptRunContext! This warning can be ignored when running in bare mode.\n",
      "2025-03-13 11:33:40.394 Thread 'MainThread': missing ScriptRunContext! This warning can be ignored when running in bare mode.\n",
      "2025-03-13 11:33:40.394 Thread 'MainThread': missing ScriptRunContext! This warning can be ignored when running in bare mode.\n",
      "2025-03-13 11:33:40.394 Thread 'MainThread': missing ScriptRunContext! This warning can be ignored when running in bare mode.\n"
     ]
    }
   ],
   "source": [
    "with st.expander(\"Step 1: Technical Requirements Document\"):\n",
    "    if st.button(\"Generate Technical Requirements\"):\n",
    "        if business_req_text.strip():\n",
    "            with st.spinner(\"Generating Technical Requirements...\"):\n",
    "                tech_req_doc = tech_req_chain.run(business_req=business_req_text)\n",
    "                st.session_state.tech_req_doc = tech_req_doc\n",
    "                st.text_area(\"Technical Requirements Document:\", value=tech_req_doc, height=300)\n",
    "                st.download_button(\"Download Technical Requirements\", tech_req_doc, file_name=\"Technical_Requirements.txt\")\n",
    "        else:\n",
    "            st.error(\"Please provide the Business Requirements.\")"
   ]
  },
  {
   "cell_type": "markdown",
   "id": "c6f50aef-c5ba-4d6c-a29f-5946e0ab9c71",
   "metadata": {},
   "source": [
    "#### Step 2: Vendor Shortlisting"
   ]
  },
  {
   "cell_type": "code",
   "execution_count": 264,
   "id": "a99a2332-c3b1-4ec1-b90e-1b8da8b3b398",
   "metadata": {},
   "outputs": [
    {
     "name": "stderr",
     "output_type": "stream",
     "text": [
      "2025-03-13 11:33:40.456 Thread 'MainThread': missing ScriptRunContext! This warning can be ignored when running in bare mode.\n",
      "2025-03-13 11:33:40.458 Thread 'MainThread': missing ScriptRunContext! This warning can be ignored when running in bare mode.\n",
      "2025-03-13 11:33:40.458 Thread 'MainThread': missing ScriptRunContext! This warning can be ignored when running in bare mode.\n",
      "2025-03-13 11:33:40.460 Thread 'MainThread': missing ScriptRunContext! This warning can be ignored when running in bare mode.\n",
      "2025-03-13 11:33:40.460 Thread 'MainThread': missing ScriptRunContext! This warning can be ignored when running in bare mode.\n",
      "2025-03-13 11:33:40.463 Thread 'MainThread': missing ScriptRunContext! This warning can be ignored when running in bare mode.\n"
     ]
    }
   ],
   "source": [
    "with st.expander(\"Step 2: Vendor Shortlisting\"):\n",
    "    if st.button(\"Shortlist Vendors\"):\n",
    "        if st.session_state.tech_req_doc and st.session_state.vendor_history_df is not None:\n",
    "            with st.spinner(\"Shortlisting Vendors...\"):\n",
    "                # 0.  Print column names for debugging\n",
    "                #st.write(\"Vendor History DataFrame Columns:\", list(st.session_state.vendor_history_df.columns))\n",
    "\n",
    "                # 1. Get list of all unique vendors from LLM\n",
    "                vendor_names = vendor_shortlist_chain.run(\n",
    "                    tech_req=st.session_state.tech_req_doc,\n",
    "                    vendor_history=vendor_history_text\n",
    "                )\n",
    "                # Splitting the comma-separated string into a list\n",
    "                vendor_names_list = [name.strip() for name in vendor_names.split(',')]\n",
    "\n",
    "                # 2. Calculate Composite Scores\n",
    "                vendor_scores = {}\n",
    "                df = st.session_state.vendor_history_df\n",
    "                for vendor in vendor_names_list:\n",
    "                    try:\n",
    "                        vendor_data = df[df['Vendor_name'] == vendor]\n",
    "\n",
    "                        if not vendor_data.empty:  # Check if the vendor data exists\n",
    "                            avg_delivery = vendor_data['Delivery_punctuality'].mean()\n",
    "                            avg_quality = vendor_data['Quality_of_goods'].mean()\n",
    "                            avg_contract = vendor_data['Contract_term_compliance'].mean()\n",
    "                            composite_score = (avg_delivery + avg_quality + avg_contract) / 3\n",
    "                            vendor_scores[vendor] = {\n",
    "                                \"composite\": composite_score,\n",
    "                                \"contract\": avg_contract,\n",
    "                                \"quality\": avg_quality,\n",
    "                                \"delivery\": avg_delivery\n",
    "                            }\n",
    "                    except KeyError as e:\n",
    "                        st.error(f\"KeyError: {e}. Please ensure the Vendor History file has a column named 'Vendor_name', 'Delivery_punctuality', 'Quality_of_goods', and 'Contract_term_compliance'\")\n",
    "                        break  # Stop processing to avoid further errors\n",
    "\n",
    "                # 3. Sort Vendors Based on Composite Score and Tie-Breaking\n",
    "                sorted_vendors = sorted(vendor_scores.items(),\n",
    "                                        key=lambda item: (item[1]['composite'],\n",
    "                                                           item[1]['contract'],\n",
    "                                                           item[1]['quality'],\n",
    "                                                           item[1]['delivery']),\n",
    "                                        reverse=True)\n",
    "\n",
    "                # 4. Select Top Two Vendors\n",
    "                top_two_vendors = [vendor[0] for vendor in sorted_vendors[:2]]\n",
    "                st.session_state.shortlisted_vendors = \", \".join(top_two_vendors)\n",
    "\n",
    "                st.text_area(\"Shortlisted Vendors:\", value=st.session_state.shortlisted_vendors, height=200)\n",
    "                st.download_button(\"Download Vendor Shortlist\", st.session_state.shortlisted_vendors, file_name=\"Vendor_Shortlist.txt\")\n",
    "\n",
    "        else:\n",
    "            st.error(\"Ensure Technical Requirements and Vendor History are provided and in the correct format.\")"
   ]
  },
  {
   "cell_type": "markdown",
   "id": "7e697c79-c923-4d95-baf8-33418ff1cdca",
   "metadata": {},
   "source": [
    "#### Step 3: Tender Document & RFP "
   ]
  },
  {
   "cell_type": "code",
   "execution_count": 266,
   "id": "16f5ceb7-674a-4586-8101-6e5a78f0ed99",
   "metadata": {},
   "outputs": [
    {
     "name": "stderr",
     "output_type": "stream",
     "text": [
      "2025-03-13 11:33:40.509 Thread 'MainThread': missing ScriptRunContext! This warning can be ignored when running in bare mode.\n",
      "2025-03-13 11:33:40.516 Thread 'MainThread': missing ScriptRunContext! This warning can be ignored when running in bare mode.\n",
      "2025-03-13 11:33:40.516 Thread 'MainThread': missing ScriptRunContext! This warning can be ignored when running in bare mode.\n",
      "2025-03-13 11:33:40.516 Thread 'MainThread': missing ScriptRunContext! This warning can be ignored when running in bare mode.\n",
      "2025-03-13 11:33:40.516 Thread 'MainThread': missing ScriptRunContext! This warning can be ignored when running in bare mode.\n",
      "2025-03-13 11:33:40.516 Thread 'MainThread': missing ScriptRunContext! This warning can be ignored when running in bare mode.\n"
     ]
    }
   ],
   "source": [
    "with st.expander(\"Step 3: Tender Document & RFP\"):\n",
    "    if st.button(\"Generate Tender Document\"):\n",
    "        if st.session_state.tech_req_doc and business_req_text.strip():\n",
    "            with st.spinner(\"Generating Tender Document...\"):\n",
    "                tender_doc = tender_doc_chain.run(\n",
    "                    tech_req=st.session_state.tech_req_doc,\n",
    "                    business_req=business_req_text\n",
    "                )\n",
    "                st.session_state.tender_doc = tender_doc\n",
    "                st.text_area(\"Tender Document & RFP:\", value=tender_doc, height=300)\n",
    "                st.download_button(\"Download Tender Document\", tender_doc, file_name=\"Tender_Document.txt\")\n",
    "        else:\n",
    "            st.error(\"Ensure Business Requirements and Technical Requirements are provided.\")"
   ]
  },
  {
   "cell_type": "markdown",
   "id": "92660a15-a743-4ad4-b9f0-4c1f59e3cf9a",
   "metadata": {},
   "source": [
    "#### Step 4: Tender Email Generation"
   ]
  },
  {
   "cell_type": "code",
   "execution_count": 268,
   "id": "48180712-063b-41f5-a647-063ba345cc73",
   "metadata": {},
   "outputs": [
    {
     "name": "stderr",
     "output_type": "stream",
     "text": [
      "2025-03-13 11:33:40.569 Thread 'MainThread': missing ScriptRunContext! This warning can be ignored when running in bare mode.\n",
      "2025-03-13 11:33:40.569 Thread 'MainThread': missing ScriptRunContext! This warning can be ignored when running in bare mode.\n",
      "2025-03-13 11:33:40.575 Thread 'MainThread': missing ScriptRunContext! This warning can be ignored when running in bare mode.\n",
      "2025-03-13 11:33:40.576 Thread 'MainThread': missing ScriptRunContext! This warning can be ignored when running in bare mode.\n",
      "2025-03-13 11:33:40.576 Thread 'MainThread': missing ScriptRunContext! This warning can be ignored when running in bare mode.\n",
      "2025-03-13 11:33:40.576 Thread 'MainThread': missing ScriptRunContext! This warning can be ignored when running in bare mode.\n"
     ]
    }
   ],
   "source": [
    "with st.expander(\"Step 4: Tender Email Generation\"):\n",
    "    if st.button(\"Generate Tender Email\"):\n",
    "        if st.session_state.shortlisted_vendors and st.session_state.tender_doc:\n",
    "            with st.spinner(\"Generating Tender Email...\"):\n",
    "                tender_email = tender_email_chain.run(\n",
    "                    shortlisted_vendors=st.session_state.shortlisted_vendors,\n",
    "                    tender_doc=st.session_state.tender_doc\n",
    "                )\n",
    "                st.session_state.tender_email = tender_email\n",
    "                st.text_area(\"Tender Email:\", value=tender_email, height=200)\n",
    "                st.download_button(\"Download Tender Email\", tender_email, file_name=\"Tender_Email.txt\")\n",
    "        else:\n",
    "            st.error(\"Ensure Vendor Shortlist and Tender Document are generated.\")"
   ]
  },
  {
   "cell_type": "markdown",
   "id": "32e5b31f-b145-4fba-b1e5-a681569d6856",
   "metadata": {},
   "source": [
    "#### Step 5: Bid Evaluation"
   ]
  },
  {
   "cell_type": "code",
   "execution_count": 270,
   "id": "0c54d5a6-18e2-4dfa-b058-ee6694f1ced1",
   "metadata": {},
   "outputs": [
    {
     "name": "stderr",
     "output_type": "stream",
     "text": [
      "2025-03-13 11:33:40.633 Thread 'MainThread': missing ScriptRunContext! This warning can be ignored when running in bare mode.\n",
      "2025-03-13 11:33:40.634 Thread 'MainThread': missing ScriptRunContext! This warning can be ignored when running in bare mode.\n",
      "2025-03-13 11:33:40.636 Thread 'MainThread': missing ScriptRunContext! This warning can be ignored when running in bare mode.\n",
      "2025-03-13 11:33:40.636 Thread 'MainThread': missing ScriptRunContext! This warning can be ignored when running in bare mode.\n",
      "2025-03-13 11:33:40.636 Thread 'MainThread': missing ScriptRunContext! This warning can be ignored when running in bare mode.\n",
      "2025-03-13 11:33:40.636 Thread 'MainThread': missing ScriptRunContext! This warning can be ignored when running in bare mode.\n"
     ]
    }
   ],
   "source": [
    "with st.expander(\"Step 5: Bid Evaluation\"):\n",
    "    if st.button(\"Evaluate Bids\"):\n",
    "        if bids_text.strip() and st.session_state.shortlisted_vendors:\n",
    "            with st.spinner(\"Filtering Bids for Top Vendors...\"):\n",
    "                # Extract bids from shortlisted vendors using LLM\n",
    "                extract_bids_prompt = PromptTemplate(\n",
    "                    input_variables=[\"shortlisted_vendors\", \"bids_data\"],\n",
    "                    template=\"\"\"\n",
    "Context: TransGlobal Industries procurement process.\n",
    "Role: You are a bid data extraction specialist.\n",
    "Task: Identify and extract the COMPLETE bid data ONLY for the following shortlisted vendors.\n",
    "Action: Return ONLY the complete bid data for these vendors. If a vendor has no bid in the \"All Bids\" data, skip it. Return each bid on a new line. If the vendor name can not be found in the all bids, skip it.\n",
    "\n",
    "Shortlisted Vendors: {shortlisted_vendors}\n",
    "\n",
    "All Bids:\n",
    "{bids_data}\n",
    "\"\"\"\n",
    "                )\n",
    "                extract_bids_chain = LLMChain(llm=llm, prompt=extract_bids_prompt)\n",
    "\n",
    "                shortlisted_vendors_str = st.session_state.shortlisted_vendors  # Access shortlisted vendors from session state\n",
    "\n",
    "                filtered_bids = extract_bids_chain.run(\n",
    "                    shortlisted_vendors=shortlisted_vendors_str,\n",
    "                    bids_data=bids_text\n",
    "                )\n",
    "\n",
    "                st.session_state.top_two_bids = filtered_bids\n",
    "\n",
    "                with st.spinner(\"Evaluating Bids...\"):\n",
    "                    bid_evaluation = bid_evaluation_chain.run(bids_data=st.session_state.top_two_bids)\n",
    "                    st.session_state.bid_evaluation = bid_evaluation\n",
    "                    st.text_area(\"Bid Evaluation Report:\", value=bid_evaluation, height=300)\n",
    "                    st.download_button(\"Download Bid Evaluation\", bid_evaluation, file_name=\"Bid_Evaluation.txt\")\n",
    "        else:\n",
    "            st.error(\"Please provide the Bids data and ensure Vendor Shortlisting is complete.\")"
   ]
  },
  {
   "cell_type": "markdown",
   "id": "4fa164b5-5a8a-4e0a-a87b-7dd913aae301",
   "metadata": {},
   "source": [
    "#### Step 6: Negotiation Strategy & BATNA"
   ]
  },
  {
   "cell_type": "code",
   "execution_count": 272,
   "id": "a5c8da6d-a0f8-4227-9fdb-b94e0bf5bfe3",
   "metadata": {},
   "outputs": [
    {
     "name": "stderr",
     "output_type": "stream",
     "text": [
      "2025-03-13 11:33:40.692 Thread 'MainThread': missing ScriptRunContext! This warning can be ignored when running in bare mode.\n",
      "2025-03-13 11:33:40.692 Thread 'MainThread': missing ScriptRunContext! This warning can be ignored when running in bare mode.\n",
      "2025-03-13 11:33:40.692 Thread 'MainThread': missing ScriptRunContext! This warning can be ignored when running in bare mode.\n",
      "2025-03-13 11:33:40.692 Thread 'MainThread': missing ScriptRunContext! This warning can be ignored when running in bare mode.\n",
      "2025-03-13 11:33:40.692 Thread 'MainThread': missing ScriptRunContext! This warning can be ignored when running in bare mode.\n",
      "2025-03-13 11:33:40.699 Thread 'MainThread': missing ScriptRunContext! This warning can be ignored when running in bare mode.\n"
     ]
    }
   ],
   "source": [
    "with st.expander(\"Step 6: Negotiation Strategy & BATNA\"):\n",
    "    if st.button(\"Generate Negotiation Strategy\"):\n",
    "        if st.session_state.bid_evaluation:\n",
    "            with st.spinner(\"Generating Negotiation Strategy...\"):\n",
    "                negotiation_strategy = negotiation_strategy_chain.run(\n",
    "                    top_two_bids=st.session_state.bid_evaluation\n",
    "                )\n",
    "                st.session_state.negotiation_strategy = negotiation_strategy\n",
    "                st.text_area(\"Negotiation Strategy & BATNA:\", value=negotiation_strategy, height=300)\n",
    "                st.download_button(\"Download Negotiation Strategy\", negotiation_strategy, file_name=\"Negotiation_Strategy.txt\")\n",
    "        else:\n",
    "            st.error(\"Ensure Bid Evaluation is completed.\")"
   ]
  },
  {
   "cell_type": "markdown",
   "id": "62d685e7-1e9f-47c1-a109-bb6336fcd4d2",
   "metadata": {},
   "source": [
    "#### Step 7: Risk Assessment Report"
   ]
  },
  {
   "cell_type": "code",
   "execution_count": 274,
   "id": "577563a7-3a26-434b-a083-2a0a745460d4",
   "metadata": {},
   "outputs": [
    {
     "name": "stderr",
     "output_type": "stream",
     "text": [
      "2025-03-13 11:33:40.749 Thread 'MainThread': missing ScriptRunContext! This warning can be ignored when running in bare mode.\n",
      "2025-03-13 11:33:40.749 Thread 'MainThread': missing ScriptRunContext! This warning can be ignored when running in bare mode.\n",
      "2025-03-13 11:33:40.749 Thread 'MainThread': missing ScriptRunContext! This warning can be ignored when running in bare mode.\n",
      "2025-03-13 11:33:40.758 Thread 'MainThread': missing ScriptRunContext! This warning can be ignored when running in bare mode.\n",
      "2025-03-13 11:33:40.758 Thread 'MainThread': missing ScriptRunContext! This warning can be ignored when running in bare mode.\n",
      "2025-03-13 11:33:40.758 Thread 'MainThread': missing ScriptRunContext! This warning can be ignored when running in bare mode.\n"
     ]
    }
   ],
   "source": [
    "with st.expander(\"Step 7: Risk Assessment Report\"):\n",
    "    if st.button(\"Generate Risk Assessment\"):\n",
    "        if st.session_state.negotiation_strategy and st.session_state.top_two_bids.strip():\n",
    "            with st.spinner(\"Generating Risk Assessment Report...\"):\n",
    "                risk_assessment = risk_assessment_chain.run(\n",
    "                    negotiation_strategy=st.session_state.negotiation_strategy,\n",
    "                    bid_data=st.session_state.top_two_bids\n",
    "                )\n",
    "                st.session_state.risk_assessment = risk_assessment\n",
    "                st.text_area(\"Risk Assessment Report:\", value=risk_assessment, height=300)\n",
    "                st.download_button(\"Download Risk Assessment\", risk_assessment, file_name=\"Risk_Assessment.txt\")\n",
    "        else:\n",
    "            st.error(\"Ensure Negotiation Strategy and Bids data are provided.\")"
   ]
  },
  {
   "cell_type": "markdown",
   "id": "b018f8c1-27c7-413e-82d3-afcf1402171c",
   "metadata": {},
   "source": [
    "#### Step 8: Contract Document Generation"
   ]
  },
  {
   "cell_type": "code",
   "execution_count": 276,
   "id": "71e43015-446c-4644-87ef-8bccb6b3c607",
   "metadata": {},
   "outputs": [
    {
     "name": "stderr",
     "output_type": "stream",
     "text": [
      "2025-03-13 11:33:40.809 Thread 'MainThread': missing ScriptRunContext! This warning can be ignored when running in bare mode.\n",
      "2025-03-13 11:33:40.816 Thread 'MainThread': missing ScriptRunContext! This warning can be ignored when running in bare mode.\n",
      "2025-03-13 11:33:40.818 Thread 'MainThread': missing ScriptRunContext! This warning can be ignored when running in bare mode.\n",
      "2025-03-13 11:33:40.818 Thread 'MainThread': missing ScriptRunContext! This warning can be ignored when running in bare mode.\n",
      "2025-03-13 11:33:40.818 Thread 'MainThread': missing ScriptRunContext! This warning can be ignored when running in bare mode.\n",
      "2025-03-13 11:33:40.822 Thread 'MainThread': missing ScriptRunContext! This warning can be ignored when running in bare mode.\n"
     ]
    }
   ],
   "source": [
    "with st.expander(\"Step 8: Contract Document Generation\"):\n",
    "    if st.button(\"Generate Contract Document\"):\n",
    "        if st.session_state.risk_assessment:\n",
    "            with st.spinner(\"Generating Contract Document...\"):\n",
    "                contract_doc = contract_doc_chain.run(\n",
    "                    risk_assessment=st.session_state.risk_assessment\n",
    "                )\n",
    "                st.session_state.contract_doc = contract_doc\n",
    "                st.text_area(\"Contract Document:\", value=contract_doc, height=300)\n",
    "                st.download_button(\"Download Contract Document\", contract_doc, file_name=\"Contract_Document.txt\")\n",
    "        else:\n",
    "            st.error(\"Ensure Risk Assessment is completed.\")"
   ]
  },
  {
   "cell_type": "markdown",
   "id": "e890c3bd-128c-4fd5-8a47-514f5f720b9f",
   "metadata": {},
   "source": [
    "## 7. Adding a Fixed Footer"
   ]
  },
  {
   "cell_type": "code",
   "execution_count": 278,
   "id": "94f00495-ed41-40d7-b561-6ecdc631eba6",
   "metadata": {},
   "outputs": [
    {
     "name": "stderr",
     "output_type": "stream",
     "text": [
      "2025-03-13 11:33:40.869 Thread 'MainThread': missing ScriptRunContext! This warning can be ignored when running in bare mode.\n",
      "2025-03-13 11:33:40.869 Thread 'MainThread': missing ScriptRunContext! This warning can be ignored when running in bare mode.\n"
     ]
    },
    {
     "data": {
      "text/plain": [
       "DeltaGenerator()"
      ]
     },
     "execution_count": 278,
     "metadata": {},
     "output_type": "execute_result"
    }
   ],
   "source": [
    "st.markdown(\"\"\"\n",
    "    <style>\n",
    "        .fixed-footer {\n",
    "            position: fixed;\n",
    "            left: 0;\n",
    "            bottom: 0;\n",
    "            width: 100%;\n",
    "            background-color: #f1f1f1;\n",
    "            color: #555;\n",
    "            text-align: center;\n",
    "            padding: 10px;\n",
    "        }\n",
    "    </style>\n",
    "    <div class=\"fixed-footer\">\n",
    "        TransGlobal Industries Procurement Automation System | Powered by LangChain & Google Gemini Al\n",
    "    </div>\n",
    "    \"\"\", unsafe_allow_html=True)"
   ]
  },
  {
   "cell_type": "code",
   "execution_count": null,
   "id": "bf549918-1c6e-4895-a15f-e18e27fab993",
   "metadata": {},
   "outputs": [],
   "source": []
  },
  {
   "cell_type": "code",
   "execution_count": null,
   "id": "3986d8f0-2476-40c3-964f-5856804bbcc0",
   "metadata": {},
   "outputs": [],
   "source": []
  }
 ],
 "metadata": {
  "kernelspec": {
   "display_name": "Python 3 (ipykernel)",
   "language": "python",
   "name": "python3"
  },
  "language_info": {
   "codemirror_mode": {
    "name": "ipython",
    "version": 3
   },
   "file_extension": ".py",
   "mimetype": "text/x-python",
   "name": "python",
   "nbconvert_exporter": "python",
   "pygments_lexer": "ipython3",
   "version": "3.12.7"
  }
 },
 "nbformat": 4,
 "nbformat_minor": 5
}
